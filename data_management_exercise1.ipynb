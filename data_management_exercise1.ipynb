{
 "cells": [
  {
   "cell_type": "code",
   "execution_count": 1,
   "id": "ccc71580-122c-40db-943b-bd68e86baebf",
   "metadata": {},
   "outputs": [],
   "source": [
    "import pandas as pd"
   ]
  },
  {
   "cell_type": "code",
   "execution_count": 2,
   "id": "d54ced05-dd01-47e5-bfa7-4123a969b83f",
   "metadata": {},
   "outputs": [],
   "source": [
    "excel_name = \"Superstore.xls\""
   ]
  },
  {
   "cell_type": "code",
   "execution_count": 3,
   "id": "51bfce6d-3fab-458c-beaf-631ee5bdce60",
   "metadata": {},
   "outputs": [
    {
     "data": {
      "text/html": [
       "<div>\n",
       "<style scoped>\n",
       "    .dataframe tbody tr th:only-of-type {\n",
       "        vertical-align: middle;\n",
       "    }\n",
       "\n",
       "    .dataframe tbody tr th {\n",
       "        vertical-align: top;\n",
       "    }\n",
       "\n",
       "    .dataframe thead th {\n",
       "        text-align: right;\n",
       "    }\n",
       "</style>\n",
       "<table border=\"1\" class=\"dataframe\">\n",
       "  <thead>\n",
       "    <tr style=\"text-align: right;\">\n",
       "      <th></th>\n",
       "      <th>Row ID</th>\n",
       "      <th>Order ID</th>\n",
       "      <th>Order Date</th>\n",
       "      <th>Ship Date</th>\n",
       "      <th>Ship Mode</th>\n",
       "      <th>Customer ID</th>\n",
       "      <th>Customer Name</th>\n",
       "      <th>Segment</th>\n",
       "      <th>Country/Region</th>\n",
       "      <th>City</th>\n",
       "      <th>...</th>\n",
       "      <th>Postal Code</th>\n",
       "      <th>Region</th>\n",
       "      <th>Product ID</th>\n",
       "      <th>Category</th>\n",
       "      <th>Sub-Category</th>\n",
       "      <th>Product Name</th>\n",
       "      <th>Sales</th>\n",
       "      <th>Quantity</th>\n",
       "      <th>Discount</th>\n",
       "      <th>Profit</th>\n",
       "    </tr>\n",
       "  </thead>\n",
       "  <tbody>\n",
       "    <tr>\n",
       "      <th>0</th>\n",
       "      <td>1</td>\n",
       "      <td>CA-2020-152156</td>\n",
       "      <td>2020-11-08</td>\n",
       "      <td>2020-11-11</td>\n",
       "      <td>Second Class</td>\n",
       "      <td>CG-12520</td>\n",
       "      <td>Claire Gute</td>\n",
       "      <td>Consumer</td>\n",
       "      <td>United States</td>\n",
       "      <td>Henderson</td>\n",
       "      <td>...</td>\n",
       "      <td>42420.0</td>\n",
       "      <td>South</td>\n",
       "      <td>FUR-BO-10001798</td>\n",
       "      <td>Furniture</td>\n",
       "      <td>Bookcases</td>\n",
       "      <td>Bush Somerset Collection Bookcase</td>\n",
       "      <td>261.9600</td>\n",
       "      <td>2</td>\n",
       "      <td>0.00</td>\n",
       "      <td>41.9136</td>\n",
       "    </tr>\n",
       "    <tr>\n",
       "      <th>1</th>\n",
       "      <td>2</td>\n",
       "      <td>CA-2020-152156</td>\n",
       "      <td>2020-11-08</td>\n",
       "      <td>2020-11-11</td>\n",
       "      <td>Second Class</td>\n",
       "      <td>CG-12520</td>\n",
       "      <td>Claire Gute</td>\n",
       "      <td>Consumer</td>\n",
       "      <td>United States</td>\n",
       "      <td>Henderson</td>\n",
       "      <td>...</td>\n",
       "      <td>42420.0</td>\n",
       "      <td>South</td>\n",
       "      <td>FUR-CH-10000454</td>\n",
       "      <td>Furniture</td>\n",
       "      <td>Chairs</td>\n",
       "      <td>Hon Deluxe Fabric Upholstered Stacking Chairs,...</td>\n",
       "      <td>731.9400</td>\n",
       "      <td>3</td>\n",
       "      <td>0.00</td>\n",
       "      <td>219.5820</td>\n",
       "    </tr>\n",
       "    <tr>\n",
       "      <th>2</th>\n",
       "      <td>3</td>\n",
       "      <td>CA-2020-138688</td>\n",
       "      <td>2020-06-12</td>\n",
       "      <td>2020-06-16</td>\n",
       "      <td>Second Class</td>\n",
       "      <td>DV-13045</td>\n",
       "      <td>Darrin Van Huff</td>\n",
       "      <td>Corporate</td>\n",
       "      <td>United States</td>\n",
       "      <td>Los Angeles</td>\n",
       "      <td>...</td>\n",
       "      <td>90036.0</td>\n",
       "      <td>West</td>\n",
       "      <td>OFF-LA-10000240</td>\n",
       "      <td>Office Supplies</td>\n",
       "      <td>Labels</td>\n",
       "      <td>Self-Adhesive Address Labels for Typewriters b...</td>\n",
       "      <td>14.6200</td>\n",
       "      <td>2</td>\n",
       "      <td>0.00</td>\n",
       "      <td>6.8714</td>\n",
       "    </tr>\n",
       "    <tr>\n",
       "      <th>3</th>\n",
       "      <td>4</td>\n",
       "      <td>US-2019-108966</td>\n",
       "      <td>2019-10-11</td>\n",
       "      <td>2019-10-18</td>\n",
       "      <td>Standard Class</td>\n",
       "      <td>SO-20335</td>\n",
       "      <td>Sean O'Donnell</td>\n",
       "      <td>Consumer</td>\n",
       "      <td>United States</td>\n",
       "      <td>Fort Lauderdale</td>\n",
       "      <td>...</td>\n",
       "      <td>33311.0</td>\n",
       "      <td>South</td>\n",
       "      <td>FUR-TA-10000577</td>\n",
       "      <td>Furniture</td>\n",
       "      <td>Tables</td>\n",
       "      <td>Bretford CR4500 Series Slim Rectangular Table</td>\n",
       "      <td>957.5775</td>\n",
       "      <td>5</td>\n",
       "      <td>0.45</td>\n",
       "      <td>-383.0310</td>\n",
       "    </tr>\n",
       "    <tr>\n",
       "      <th>4</th>\n",
       "      <td>5</td>\n",
       "      <td>US-2019-108966</td>\n",
       "      <td>2019-10-11</td>\n",
       "      <td>2019-10-18</td>\n",
       "      <td>Standard Class</td>\n",
       "      <td>SO-20335</td>\n",
       "      <td>Sean O'Donnell</td>\n",
       "      <td>Consumer</td>\n",
       "      <td>United States</td>\n",
       "      <td>Fort Lauderdale</td>\n",
       "      <td>...</td>\n",
       "      <td>33311.0</td>\n",
       "      <td>South</td>\n",
       "      <td>OFF-ST-10000760</td>\n",
       "      <td>Office Supplies</td>\n",
       "      <td>Storage</td>\n",
       "      <td>Eldon Fold 'N Roll Cart System</td>\n",
       "      <td>22.3680</td>\n",
       "      <td>2</td>\n",
       "      <td>0.20</td>\n",
       "      <td>2.5164</td>\n",
       "    </tr>\n",
       "  </tbody>\n",
       "</table>\n",
       "<p>5 rows × 21 columns</p>\n",
       "</div>"
      ],
      "text/plain": [
       "   Row ID        Order ID Order Date  Ship Date       Ship Mode Customer ID  \\\n",
       "0       1  CA-2020-152156 2020-11-08 2020-11-11    Second Class    CG-12520   \n",
       "1       2  CA-2020-152156 2020-11-08 2020-11-11    Second Class    CG-12520   \n",
       "2       3  CA-2020-138688 2020-06-12 2020-06-16    Second Class    DV-13045   \n",
       "3       4  US-2019-108966 2019-10-11 2019-10-18  Standard Class    SO-20335   \n",
       "4       5  US-2019-108966 2019-10-11 2019-10-18  Standard Class    SO-20335   \n",
       "\n",
       "     Customer Name    Segment Country/Region             City  ...  \\\n",
       "0      Claire Gute   Consumer  United States        Henderson  ...   \n",
       "1      Claire Gute   Consumer  United States        Henderson  ...   \n",
       "2  Darrin Van Huff  Corporate  United States      Los Angeles  ...   \n",
       "3   Sean O'Donnell   Consumer  United States  Fort Lauderdale  ...   \n",
       "4   Sean O'Donnell   Consumer  United States  Fort Lauderdale  ...   \n",
       "\n",
       "  Postal Code  Region       Product ID         Category Sub-Category  \\\n",
       "0     42420.0   South  FUR-BO-10001798        Furniture    Bookcases   \n",
       "1     42420.0   South  FUR-CH-10000454        Furniture       Chairs   \n",
       "2     90036.0    West  OFF-LA-10000240  Office Supplies       Labels   \n",
       "3     33311.0   South  FUR-TA-10000577        Furniture       Tables   \n",
       "4     33311.0   South  OFF-ST-10000760  Office Supplies      Storage   \n",
       "\n",
       "                                        Product Name     Sales  Quantity  \\\n",
       "0                  Bush Somerset Collection Bookcase  261.9600         2   \n",
       "1  Hon Deluxe Fabric Upholstered Stacking Chairs,...  731.9400         3   \n",
       "2  Self-Adhesive Address Labels for Typewriters b...   14.6200         2   \n",
       "3      Bretford CR4500 Series Slim Rectangular Table  957.5775         5   \n",
       "4                     Eldon Fold 'N Roll Cart System   22.3680         2   \n",
       "\n",
       "   Discount    Profit  \n",
       "0      0.00   41.9136  \n",
       "1      0.00  219.5820  \n",
       "2      0.00    6.8714  \n",
       "3      0.45 -383.0310  \n",
       "4      0.20    2.5164  \n",
       "\n",
       "[5 rows x 21 columns]"
      ]
     },
     "execution_count": 3,
     "metadata": {},
     "output_type": "execute_result"
    }
   ],
   "source": [
    "orders_df = pd.read_excel(excel_name, sheet_name=\"Orders\")\n",
    "orders_df.head()"
   ]
  },
  {
   "cell_type": "code",
   "execution_count": 4,
   "id": "9afcf02d-e026-4f1b-af77-698b61a12921",
   "metadata": {},
   "outputs": [
    {
     "data": {
      "text/html": [
       "<div>\n",
       "<style scoped>\n",
       "    .dataframe tbody tr th:only-of-type {\n",
       "        vertical-align: middle;\n",
       "    }\n",
       "\n",
       "    .dataframe tbody tr th {\n",
       "        vertical-align: top;\n",
       "    }\n",
       "\n",
       "    .dataframe thead th {\n",
       "        text-align: right;\n",
       "    }\n",
       "</style>\n",
       "<table border=\"1\" class=\"dataframe\">\n",
       "  <thead>\n",
       "    <tr style=\"text-align: right;\">\n",
       "      <th></th>\n",
       "      <th>Regional Manager</th>\n",
       "      <th>Region</th>\n",
       "    </tr>\n",
       "  </thead>\n",
       "  <tbody>\n",
       "    <tr>\n",
       "      <th>0</th>\n",
       "      <td>Sadie Pawthorne</td>\n",
       "      <td>West</td>\n",
       "    </tr>\n",
       "    <tr>\n",
       "      <th>1</th>\n",
       "      <td>Chuck Magee</td>\n",
       "      <td>East</td>\n",
       "    </tr>\n",
       "    <tr>\n",
       "      <th>2</th>\n",
       "      <td>Roxanne Rodriguez</td>\n",
       "      <td>Central</td>\n",
       "    </tr>\n",
       "    <tr>\n",
       "      <th>3</th>\n",
       "      <td>Fred Suzuki</td>\n",
       "      <td>South</td>\n",
       "    </tr>\n",
       "  </tbody>\n",
       "</table>\n",
       "</div>"
      ],
      "text/plain": [
       "    Regional Manager   Region\n",
       "0    Sadie Pawthorne     West\n",
       "1        Chuck Magee     East\n",
       "2  Roxanne Rodriguez  Central\n",
       "3        Fred Suzuki    South"
      ]
     },
     "execution_count": 4,
     "metadata": {},
     "output_type": "execute_result"
    }
   ],
   "source": [
    "people_df = pd.read_excel(excel_name, sheet_name=\"People\")\n",
    "people_df.head()"
   ]
  },
  {
   "cell_type": "code",
   "execution_count": 5,
   "id": "0424f777-52a9-4773-b8f8-dcbb5f52cdc5",
   "metadata": {},
   "outputs": [
    {
     "data": {
      "text/html": [
       "<div>\n",
       "<style scoped>\n",
       "    .dataframe tbody tr th:only-of-type {\n",
       "        vertical-align: middle;\n",
       "    }\n",
       "\n",
       "    .dataframe tbody tr th {\n",
       "        vertical-align: top;\n",
       "    }\n",
       "\n",
       "    .dataframe thead th {\n",
       "        text-align: right;\n",
       "    }\n",
       "</style>\n",
       "<table border=\"1\" class=\"dataframe\">\n",
       "  <thead>\n",
       "    <tr style=\"text-align: right;\">\n",
       "      <th></th>\n",
       "      <th>Returned</th>\n",
       "      <th>Order ID</th>\n",
       "    </tr>\n",
       "  </thead>\n",
       "  <tbody>\n",
       "    <tr>\n",
       "      <th>0</th>\n",
       "      <td>Yes</td>\n",
       "      <td>CA-2018-100762</td>\n",
       "    </tr>\n",
       "    <tr>\n",
       "      <th>1</th>\n",
       "      <td>Yes</td>\n",
       "      <td>CA-2018-100762</td>\n",
       "    </tr>\n",
       "    <tr>\n",
       "      <th>2</th>\n",
       "      <td>Yes</td>\n",
       "      <td>CA-2018-100762</td>\n",
       "    </tr>\n",
       "    <tr>\n",
       "      <th>3</th>\n",
       "      <td>Yes</td>\n",
       "      <td>CA-2018-100762</td>\n",
       "    </tr>\n",
       "    <tr>\n",
       "      <th>4</th>\n",
       "      <td>Yes</td>\n",
       "      <td>CA-2018-100867</td>\n",
       "    </tr>\n",
       "  </tbody>\n",
       "</table>\n",
       "</div>"
      ],
      "text/plain": [
       "  Returned        Order ID\n",
       "0      Yes  CA-2018-100762\n",
       "1      Yes  CA-2018-100762\n",
       "2      Yes  CA-2018-100762\n",
       "3      Yes  CA-2018-100762\n",
       "4      Yes  CA-2018-100867"
      ]
     },
     "execution_count": 5,
     "metadata": {},
     "output_type": "execute_result"
    }
   ],
   "source": [
    "returns_df = pd.read_excel(excel_name, sheet_name=\"Returns\")\n",
    "returns_df.head()"
   ]
  },
  {
   "cell_type": "code",
   "execution_count": 6,
   "id": "c39f918e-9fb3-474e-9a03-f7849c4fcc00",
   "metadata": {},
   "outputs": [
    {
     "data": {
      "text/plain": [
       "[('Row ID', np.int64(0)),\n",
       " ('Order ID', np.int64(0)),\n",
       " ('Order Date', np.int64(0)),\n",
       " ('Ship Date', np.int64(0)),\n",
       " ('Ship Mode', np.int64(0)),\n",
       " ('Customer ID', np.int64(0)),\n",
       " ('Customer Name', np.int64(0)),\n",
       " ('Segment', np.int64(0)),\n",
       " ('Country/Region', np.int64(0)),\n",
       " ('City', np.int64(0)),\n",
       " ('State', np.int64(0)),\n",
       " ('Postal Code', np.int64(11)),\n",
       " ('Region', np.int64(0)),\n",
       " ('Product ID', np.int64(0)),\n",
       " ('Category', np.int64(0)),\n",
       " ('Sub-Category', np.int64(0)),\n",
       " ('Product Name', np.int64(0)),\n",
       " ('Sales', np.int64(0)),\n",
       " ('Quantity', np.int64(0)),\n",
       " ('Discount', np.int64(0)),\n",
       " ('Profit', np.int64(0))]"
      ]
     },
     "execution_count": 6,
     "metadata": {},
     "output_type": "execute_result"
    }
   ],
   "source": [
    "[(n, c.isna().sum()) for n, c in orders_df.items()]"
   ]
  },
  {
   "cell_type": "markdown",
   "id": "3ac85f07-8755-4ba5-a8c2-73620a4ddb13",
   "metadata": {},
   "source": [
    "There are 11 missing postal codes"
   ]
  },
  {
   "cell_type": "code",
   "execution_count": 7,
   "id": "f868712c-db25-4bec-b89c-a82cc1ac7e1f",
   "metadata": {},
   "outputs": [
    {
     "data": {
      "text/html": [
       "<div>\n",
       "<style scoped>\n",
       "    .dataframe tbody tr th:only-of-type {\n",
       "        vertical-align: middle;\n",
       "    }\n",
       "\n",
       "    .dataframe tbody tr th {\n",
       "        vertical-align: top;\n",
       "    }\n",
       "\n",
       "    .dataframe thead th {\n",
       "        text-align: right;\n",
       "    }\n",
       "</style>\n",
       "<table border=\"1\" class=\"dataframe\">\n",
       "  <thead>\n",
       "    <tr style=\"text-align: right;\">\n",
       "      <th></th>\n",
       "      <th>City</th>\n",
       "      <th>State</th>\n",
       "      <th>Postal Code</th>\n",
       "    </tr>\n",
       "  </thead>\n",
       "  <tbody>\n",
       "    <tr>\n",
       "      <th>2234</th>\n",
       "      <td>Burlington</td>\n",
       "      <td>Vermont</td>\n",
       "      <td>NaN</td>\n",
       "    </tr>\n",
       "    <tr>\n",
       "      <th>5274</th>\n",
       "      <td>Burlington</td>\n",
       "      <td>Vermont</td>\n",
       "      <td>NaN</td>\n",
       "    </tr>\n",
       "    <tr>\n",
       "      <th>8798</th>\n",
       "      <td>Burlington</td>\n",
       "      <td>Vermont</td>\n",
       "      <td>NaN</td>\n",
       "    </tr>\n",
       "    <tr>\n",
       "      <th>9146</th>\n",
       "      <td>Burlington</td>\n",
       "      <td>Vermont</td>\n",
       "      <td>NaN</td>\n",
       "    </tr>\n",
       "    <tr>\n",
       "      <th>9147</th>\n",
       "      <td>Burlington</td>\n",
       "      <td>Vermont</td>\n",
       "      <td>NaN</td>\n",
       "    </tr>\n",
       "    <tr>\n",
       "      <th>9148</th>\n",
       "      <td>Burlington</td>\n",
       "      <td>Vermont</td>\n",
       "      <td>NaN</td>\n",
       "    </tr>\n",
       "    <tr>\n",
       "      <th>9386</th>\n",
       "      <td>Burlington</td>\n",
       "      <td>Vermont</td>\n",
       "      <td>NaN</td>\n",
       "    </tr>\n",
       "    <tr>\n",
       "      <th>9387</th>\n",
       "      <td>Burlington</td>\n",
       "      <td>Vermont</td>\n",
       "      <td>NaN</td>\n",
       "    </tr>\n",
       "    <tr>\n",
       "      <th>9388</th>\n",
       "      <td>Burlington</td>\n",
       "      <td>Vermont</td>\n",
       "      <td>NaN</td>\n",
       "    </tr>\n",
       "    <tr>\n",
       "      <th>9389</th>\n",
       "      <td>Burlington</td>\n",
       "      <td>Vermont</td>\n",
       "      <td>NaN</td>\n",
       "    </tr>\n",
       "    <tr>\n",
       "      <th>9741</th>\n",
       "      <td>Burlington</td>\n",
       "      <td>Vermont</td>\n",
       "      <td>NaN</td>\n",
       "    </tr>\n",
       "  </tbody>\n",
       "</table>\n",
       "</div>"
      ],
      "text/plain": [
       "            City    State  Postal Code\n",
       "2234  Burlington  Vermont          NaN\n",
       "5274  Burlington  Vermont          NaN\n",
       "8798  Burlington  Vermont          NaN\n",
       "9146  Burlington  Vermont          NaN\n",
       "9147  Burlington  Vermont          NaN\n",
       "9148  Burlington  Vermont          NaN\n",
       "9386  Burlington  Vermont          NaN\n",
       "9387  Burlington  Vermont          NaN\n",
       "9388  Burlington  Vermont          NaN\n",
       "9389  Burlington  Vermont          NaN\n",
       "9741  Burlington  Vermont          NaN"
      ]
     },
     "execution_count": 7,
     "metadata": {},
     "output_type": "execute_result"
    }
   ],
   "source": [
    "orders_df[orders_df[\"Postal Code\"].isna()][[\"City\", \"State\", \"Postal Code\"]]"
   ]
  },
  {
   "cell_type": "code",
   "execution_count": 8,
   "id": "64f177d5-09ac-493f-bcb9-09bb4001546c",
   "metadata": {},
   "outputs": [
    {
     "data": {
      "text/plain": [
       "2234   NaN\n",
       "5274   NaN\n",
       "8798   NaN\n",
       "9146   NaN\n",
       "9147   NaN\n",
       "9148   NaN\n",
       "9386   NaN\n",
       "9387   NaN\n",
       "9388   NaN\n",
       "9389   NaN\n",
       "9741   NaN\n",
       "Name: Postal Code, dtype: float64"
      ]
     },
     "execution_count": 8,
     "metadata": {},
     "output_type": "execute_result"
    }
   ],
   "source": [
    "orders_df.loc[(orders_df[\"City\"] == \"Burlington\") & (orders_df[\"State\"] == \"Vermont\"), \"Postal Code\"]"
   ]
  },
  {
   "cell_type": "markdown",
   "id": "5cbd926a-5499-4144-aebb-c763f7d79932",
   "metadata": {},
   "source": [
    "ALL missing values are postal codes from the same city `Burlington, Vermont`.\n",
    "Assume the postal code is `05401` and fill in the value"
   ]
  },
  {
   "cell_type": "code",
   "execution_count": 9,
   "id": "d14c0b81-3ccb-478a-ae6d-9f03e20a6ed8",
   "metadata": {},
   "outputs": [],
   "source": [
    "orders_df.loc[(orders_df[\"City\"] == \"Burlington\") & (orders_df[\"State\"] == \"Vermont\"), \"Postal Code\"] = 5401"
   ]
  },
  {
   "cell_type": "code",
   "execution_count": 10,
   "id": "1c0464c3-65ec-4ccd-9b17-07a00ddcc66d",
   "metadata": {},
   "outputs": [
    {
     "data": {
      "text/plain": [
       "Ship Mode\n",
       "Standard Class    5968\n",
       "Second Class      1945\n",
       "First Class       1538\n",
       "Same Day           543\n",
       "Name: count, dtype: int64"
      ]
     },
     "execution_count": 10,
     "metadata": {},
     "output_type": "execute_result"
    }
   ],
   "source": [
    "orders_df[\"Ship Mode\"].value_counts()"
   ]
  },
  {
   "cell_type": "markdown",
   "id": "fc31bfe2-ee45-4d10-98d5-25eec98b742b",
   "metadata": {},
   "source": [
    "Four types of shipping mode: Standard, Second Class, First Class, Same Day\n",
    "Assuming expense order from most to least expensive:\n",
    "- Same Day\n",
    "- First Class\n",
    "- Second Class\n",
    "- Standard"
   ]
  },
  {
   "cell_type": "markdown",
   "id": "62643aa6-1d20-4fcd-b61f-4549d445b635",
   "metadata": {},
   "source": [
    "Add `Ship Mode Code` attribute"
   ]
  },
  {
   "cell_type": "code",
   "execution_count": 11,
   "id": "f066e47c-a913-41e7-90cc-c288c56610b7",
   "metadata": {},
   "outputs": [
    {
     "data": {
      "text/plain": [
       "np.int64(0)"
      ]
     },
     "execution_count": 11,
     "metadata": {},
     "output_type": "execute_result"
    }
   ],
   "source": [
    "ship_name_modes = {\"Same Day\": \"0\", \"First Class\": \"1\", \"Second Class\": \"2\", \"Standard Class\": \"S\"}\n",
    "orders_df[\"Ship Mode Code\"] = orders_df[\"Ship Mode\"].map(ship_name_modes)\n",
    "orders_df[\"Ship Mode Code\"].isna().sum()"
   ]
  },
  {
   "cell_type": "code",
   "execution_count": 12,
   "id": "b02deab6-087a-4744-a9bf-2ba5e9c13c18",
   "metadata": {},
   "outputs": [
    {
     "data": {
      "text/plain": [
       "Segment\n",
       "Consumer       5191\n",
       "Corporate      3020\n",
       "Home Office    1783\n",
       "Name: count, dtype: int64"
      ]
     },
     "execution_count": 12,
     "metadata": {},
     "output_type": "execute_result"
    }
   ],
   "source": [
    "orders_df[\"Segment\"].value_counts()"
   ]
  },
  {
   "cell_type": "markdown",
   "id": "bbadcf55-3d02-49e6-96f3-fd75d3d58d60",
   "metadata": {},
   "source": [
    "Add `Segment Code` attribute"
   ]
  },
  {
   "cell_type": "markdown",
   "id": "7e356c8f-9ffe-41ae-b7de-e422992a7160",
   "metadata": {},
   "source": [
    "Three types of customer segments:\n",
    "- Consumer\n",
    "- Corporate\n",
    "- Home Office"
   ]
  },
  {
   "cell_type": "code",
   "execution_count": 13,
   "id": "ff93892a-93cd-46b6-be91-29972c554b4b",
   "metadata": {},
   "outputs": [
    {
     "data": {
      "text/plain": [
       "np.int64(0)"
      ]
     },
     "execution_count": 13,
     "metadata": {},
     "output_type": "execute_result"
    }
   ],
   "source": [
    "segment_name_codes = { \"Consumer\": \"S\", \"Corporate\": \"C\", \"Home Office\": \"O\" }\n",
    "orders_df[\"Segment Code\"] = orders_df[\"Segment\"].map(segment_name_codes)\n",
    "orders_df[\"Segment Code\"].isna().sum()"
   ]
  },
  {
   "cell_type": "code",
   "execution_count": 14,
   "id": "d8d17f89-02d5-4a73-acb0-2c1eb8ae3ee3",
   "metadata": {},
   "outputs": [
    {
     "data": {
      "text/plain": [
       "Country/Region\n",
       "United States    9994\n",
       "Name: count, dtype: int64"
      ]
     },
     "execution_count": 14,
     "metadata": {},
     "output_type": "execute_result"
    }
   ],
   "source": [
    "orders_df[\"Country/Region\"].value_counts()"
   ]
  },
  {
   "cell_type": "markdown",
   "id": "0945cf9e-fd8f-405f-9315-13345d83ff04",
   "metadata": {},
   "source": [
    "All sales are made in the United States"
   ]
  },
  {
   "cell_type": "code",
   "execution_count": 15,
   "id": "1e7703c1-42db-447e-8f7a-e92041fb9376",
   "metadata": {},
   "outputs": [
    {
     "data": {
      "text/plain": [
       "City\n",
       "New York City    915\n",
       "Los Angeles      747\n",
       "Philadelphia     537\n",
       "San Francisco    510\n",
       "Seattle          428\n",
       "                ... \n",
       "Abilene            1\n",
       "Montebello         1\n",
       "Kissimmee          1\n",
       "Danbury            1\n",
       "Springdale         1\n",
       "Name: count, Length: 531, dtype: int64"
      ]
     },
     "execution_count": 15,
     "metadata": {},
     "output_type": "execute_result"
    }
   ],
   "source": [
    "orders_df[\"City\"].value_counts()"
   ]
  },
  {
   "cell_type": "code",
   "execution_count": 16,
   "id": "195cbd82-023c-41bd-a53c-871ed703b369",
   "metadata": {},
   "outputs": [
    {
     "data": {
      "text/plain": [
       "State\n",
       "California              2001\n",
       "New York                1128\n",
       "Texas                    985\n",
       "Pennsylvania             587\n",
       "Washington               506\n",
       "Illinois                 492\n",
       "Ohio                     469\n",
       "Florida                  383\n",
       "Michigan                 255\n",
       "North Carolina           249\n",
       "Arizona                  224\n",
       "Virginia                 224\n",
       "Georgia                  184\n",
       "Tennessee                183\n",
       "Colorado                 182\n",
       "Indiana                  149\n",
       "Kentucky                 139\n",
       "Massachusetts            135\n",
       "New Jersey               130\n",
       "Oregon                   124\n",
       "Wisconsin                110\n",
       "Maryland                 105\n",
       "Delaware                  96\n",
       "Minnesota                 89\n",
       "Connecticut               82\n",
       "Missouri                  66\n",
       "Oklahoma                  66\n",
       "Alabama                   61\n",
       "Arkansas                  60\n",
       "Rhode Island              56\n",
       "Utah                      53\n",
       "Mississippi               53\n",
       "South Carolina            42\n",
       "Louisiana                 42\n",
       "Nevada                    39\n",
       "Nebraska                  38\n",
       "New Mexico                37\n",
       "Iowa                      30\n",
       "New Hampshire             27\n",
       "Kansas                    24\n",
       "Idaho                     21\n",
       "Montana                   15\n",
       "South Dakota              12\n",
       "Vermont                   11\n",
       "District of Columbia      10\n",
       "Maine                      8\n",
       "North Dakota               7\n",
       "West Virginia              4\n",
       "Wyoming                    1\n",
       "Name: count, dtype: int64"
      ]
     },
     "execution_count": 16,
     "metadata": {},
     "output_type": "execute_result"
    }
   ],
   "source": [
    "orders_df[\"State\"].value_counts()"
   ]
  },
  {
   "cell_type": "code",
   "execution_count": 17,
   "id": "0e02f16b-5bbd-479c-a4b9-f106786a6770",
   "metadata": {},
   "outputs": [
    {
     "data": {
      "text/html": [
       "<div>\n",
       "<style scoped>\n",
       "    .dataframe tbody tr th:only-of-type {\n",
       "        vertical-align: middle;\n",
       "    }\n",
       "\n",
       "    .dataframe tbody tr th {\n",
       "        vertical-align: top;\n",
       "    }\n",
       "\n",
       "    .dataframe thead th {\n",
       "        text-align: right;\n",
       "    }\n",
       "</style>\n",
       "<table border=\"1\" class=\"dataframe\">\n",
       "  <thead>\n",
       "    <tr style=\"text-align: right;\">\n",
       "      <th></th>\n",
       "      <th>State</th>\n",
       "      <th>State Code</th>\n",
       "    </tr>\n",
       "  </thead>\n",
       "  <tbody>\n",
       "  </tbody>\n",
       "</table>\n",
       "</div>"
      ],
      "text/plain": [
       "Empty DataFrame\n",
       "Columns: [State, State Code]\n",
       "Index: []"
      ]
     },
     "execution_count": 17,
     "metadata": {},
     "output_type": "execute_result"
    }
   ],
   "source": [
    "# Add state codes\n",
    "state_name_codes = {\n",
    "    \"Alabama\": \"AL\", \"Alaska\": \"AK\", \"Arizona\": \"AZ\", \"Arkansas\": \"AR\", \"California\": \"CA\",\n",
    "    \"Colorado\": \"CO\", \"Connecticut\": \"CT\", \"Delaware\": \"DE\", \"Florida\": \"FL\", \"Georgia\": \"GA\",\n",
    "    \"Hawaii\": \"HI\", \"Idaho\": \"ID\", \"Illinois\": \"IL\", \"Indiana\": \"IN\", \"Iowa\": \"IA\", \n",
    "    \"Kansas\": \"KS\", \"Kentucky\": \"KY\", \"Louisiana\": \"LA\", \"Maine\": \"ME\", \"Maryland\": \"MD\", \n",
    "    \"Massachusetts\": \"MA\", \"Michigan\": \"MI\", \"Minnesota\": \"MN\", \"Mississippi\": \"MS\", \"Missouri\": \"MO\",\n",
    "    \"Montana\": \"MT\", \"Nebraska\": \"NE\", \"Nevada\": \"NV\", \"New Hampshire\": \"NH\", \"New Jersey\": \"NJ\",\n",
    "    \"New Mexico\": \"NM\", \"New York\": \"NY\", \"North Carolina\": \"NC\", \"North Dakota\": \"ND\", \"Ohio\": \"OH\", \n",
    "    \"Oklahoma\": \"OK\", \"Oregon\": \"OR\", \"Pennsylvania\": \"PA\", \"Rhode Island\": \"RI\", \"South Carolina\": \"SC\", \n",
    "    \"South Dakota\": \"SD\", \"Tennessee\": \"TN\", \"Texas\": \"TX\", \"Utah\": \"UT\", \"Vermont\": \"VT\", \n",
    "    \"Virginia\": \"VA\", \"Washington\": \"WA\", \"West Virginia\": \"WV\", \"Wisconsin\": \"WI\", \"Wyoming\": \"WY\",\n",
    "    \"District of Columbia\": \"DC\", \"Guam\": \"GU\", \"Marshall Islands\": \"MH\", \"Northern Mariana Island\": \"MP\", \"Puerto Rico\": \"PR\", \"Virgin Islands\": \"VI\"\n",
    "}\n",
    "orders_df[\"State Code\"] = orders_df[\"State\"].map(state_name_codes)\n",
    "orders_df[orders_df[\"State Code\"].isna()][[\"State\", \"State Code\"]]"
   ]
  },
  {
   "cell_type": "code",
   "execution_count": 18,
   "id": "a5ecb411-ab17-46aa-8f33-6996fa66daf4",
   "metadata": {},
   "outputs": [
    {
     "data": {
      "text/plain": [
       "Region\n",
       "West       3203\n",
       "East       2848\n",
       "Central    2323\n",
       "South      1620\n",
       "Name: count, dtype: int64"
      ]
     },
     "execution_count": 18,
     "metadata": {},
     "output_type": "execute_result"
    }
   ],
   "source": [
    "orders_df[\"Region\"].value_counts()"
   ]
  },
  {
   "cell_type": "markdown",
   "id": "be79e7ef-fc2d-4fac-b72d-9a2112de9c3f",
   "metadata": {},
   "source": [
    "Add `Region Code` attribute"
   ]
  },
  {
   "cell_type": "code",
   "execution_count": 19,
   "id": "08b23b39-9d28-4667-9649-4d7152097003",
   "metadata": {},
   "outputs": [
    {
     "data": {
      "text/plain": [
       "np.int64(0)"
      ]
     },
     "execution_count": 19,
     "metadata": {},
     "output_type": "execute_result"
    }
   ],
   "source": [
    "region_name_codes = { \"West\": \"W\", \"East\": \"E\", \"Central\": \"C\", \"South\": \"S\" }\n",
    "orders_df[\"Region Code\"] = orders_df[\"Region\"].map(region_name_codes)\n",
    "orders_df[\"Region Code\"].isna().sum()"
   ]
  },
  {
   "cell_type": "code",
   "execution_count": 20,
   "id": "4afe14e7-a752-4fa5-9bb8-665c566d2a41",
   "metadata": {},
   "outputs": [
    {
     "data": {
      "text/plain": [
       "Product ID\n",
       "OFF-PA-10001970    19\n",
       "TEC-AC-10003832    18\n",
       "FUR-FU-10004270    16\n",
       "FUR-CH-10002647    15\n",
       "FUR-CH-10001146    15\n",
       "                   ..\n",
       "TEC-MA-10004552     1\n",
       "TEC-MA-10003589     1\n",
       "OFF-AP-10003099     1\n",
       "TEC-PH-10002645     1\n",
       "OFF-ST-10001627     1\n",
       "Name: count, Length: 1862, dtype: int64"
      ]
     },
     "execution_count": 20,
     "metadata": {},
     "output_type": "execute_result"
    }
   ],
   "source": [
    "orders_df[\"Product ID\"].value_counts()"
   ]
  },
  {
   "cell_type": "code",
   "execution_count": 21,
   "id": "3ed97e0d-625a-4ef5-97e7-57e266a1c84a",
   "metadata": {},
   "outputs": [
    {
     "data": {
      "text/plain": [
       "Category\n",
       "Office Supplies    6026\n",
       "Furniture          2121\n",
       "Technology         1847\n",
       "Name: count, dtype: int64"
      ]
     },
     "execution_count": 21,
     "metadata": {},
     "output_type": "execute_result"
    }
   ],
   "source": [
    "orders_df[\"Category\"].value_counts()"
   ]
  },
  {
   "cell_type": "markdown",
   "id": "7e5001e0-54ea-4bca-b39a-820d8ae718b0",
   "metadata": {},
   "source": [
    "Three product categories:\n",
    "- Office Supplies\n",
    "- Furniture\n",
    "- Technology"
   ]
  },
  {
   "cell_type": "code",
   "execution_count": 22,
   "id": "a55b4ee1-4695-4fc6-b14a-e2482d5852ce",
   "metadata": {},
   "outputs": [
    {
     "data": {
      "text/plain": [
       "Sub-Category\n",
       "Binders        1523\n",
       "Paper          1370\n",
       "Furnishings     957\n",
       "Phones          889\n",
       "Storage         846\n",
       "Art             796\n",
       "Accessories     775\n",
       "Chairs          617\n",
       "Appliances      466\n",
       "Labels          364\n",
       "Tables          319\n",
       "Envelopes       254\n",
       "Bookcases       228\n",
       "Fasteners       217\n",
       "Supplies        190\n",
       "Machines        115\n",
       "Copiers          68\n",
       "Name: count, dtype: int64"
      ]
     },
     "execution_count": 22,
     "metadata": {},
     "output_type": "execute_result"
    }
   ],
   "source": [
    "orders_df[\"Sub-Category\"].value_counts()"
   ]
  },
  {
   "cell_type": "code",
   "execution_count": 23,
   "id": "96647973-aa57-486d-b053-98dfd220fc1c",
   "metadata": {},
   "outputs": [
    {
     "data": {
      "text/html": [
       "<div>\n",
       "<style scoped>\n",
       "    .dataframe tbody tr th:only-of-type {\n",
       "        vertical-align: middle;\n",
       "    }\n",
       "\n",
       "    .dataframe tbody tr th {\n",
       "        vertical-align: top;\n",
       "    }\n",
       "\n",
       "    .dataframe thead th {\n",
       "        text-align: right;\n",
       "    }\n",
       "</style>\n",
       "<table border=\"1\" class=\"dataframe\">\n",
       "  <thead>\n",
       "    <tr style=\"text-align: right;\">\n",
       "      <th></th>\n",
       "      <th>Category</th>\n",
       "      <th>Sub-Category</th>\n",
       "      <th>Product ID</th>\n",
       "    </tr>\n",
       "  </thead>\n",
       "  <tbody>\n",
       "    <tr>\n",
       "      <th>0</th>\n",
       "      <td>Furniture</td>\n",
       "      <td>Bookcases</td>\n",
       "      <td>FUR-BO-10001798</td>\n",
       "    </tr>\n",
       "    <tr>\n",
       "      <th>1</th>\n",
       "      <td>Furniture</td>\n",
       "      <td>Chairs</td>\n",
       "      <td>FUR-CH-10000454</td>\n",
       "    </tr>\n",
       "    <tr>\n",
       "      <th>2</th>\n",
       "      <td>Office Supplies</td>\n",
       "      <td>Labels</td>\n",
       "      <td>OFF-LA-10000240</td>\n",
       "    </tr>\n",
       "    <tr>\n",
       "      <th>3</th>\n",
       "      <td>Furniture</td>\n",
       "      <td>Tables</td>\n",
       "      <td>FUR-TA-10000577</td>\n",
       "    </tr>\n",
       "    <tr>\n",
       "      <th>4</th>\n",
       "      <td>Office Supplies</td>\n",
       "      <td>Storage</td>\n",
       "      <td>OFF-ST-10000760</td>\n",
       "    </tr>\n",
       "  </tbody>\n",
       "</table>\n",
       "</div>"
      ],
      "text/plain": [
       "          Category Sub-Category       Product ID\n",
       "0        Furniture    Bookcases  FUR-BO-10001798\n",
       "1        Furniture       Chairs  FUR-CH-10000454\n",
       "2  Office Supplies       Labels  OFF-LA-10000240\n",
       "3        Furniture       Tables  FUR-TA-10000577\n",
       "4  Office Supplies      Storage  OFF-ST-10000760"
      ]
     },
     "execution_count": 23,
     "metadata": {},
     "output_type": "execute_result"
    }
   ],
   "source": [
    "orders_df[[\"Category\", \"Sub-Category\", \"Product ID\"]].head()"
   ]
  },
  {
   "cell_type": "markdown",
   "id": "11c25379-ffff-4880-be12-465618a23fad",
   "metadata": {},
   "source": [
    "Product ID starts with category and subcategory code "
   ]
  },
  {
   "cell_type": "markdown",
   "id": "35ee96de-ef00-41ec-9224-f7393a7b54cc",
   "metadata": {},
   "source": [
    "Add `Category Code` attribute"
   ]
  },
  {
   "cell_type": "code",
   "execution_count": 24,
   "id": "dba84f4d-4439-4d52-b639-9a8249b7681d",
   "metadata": {},
   "outputs": [
    {
     "data": {
      "text/plain": [
       "Category Code\n",
       "OFF    6026\n",
       "FUR    2121\n",
       "TEC    1847\n",
       "Name: count, dtype: int64"
      ]
     },
     "execution_count": 24,
     "metadata": {},
     "output_type": "execute_result"
    }
   ],
   "source": [
    "orders_df[\"Category Code\"] = orders_df[\"Product ID\"].map(lambda p: p.split(\"-\")[0])\n",
    "orders_df[\"Category Code\"].value_counts()"
   ]
  },
  {
   "cell_type": "markdown",
   "id": "9c008733-f745-4f11-a3a7-6f644f36cd1c",
   "metadata": {},
   "source": [
    "Add `Sub-Category Code` attribute"
   ]
  },
  {
   "cell_type": "code",
   "execution_count": 25,
   "id": "f835c6e1-e7c2-4925-968f-f230a3a99e1c",
   "metadata": {},
   "outputs": [
    {
     "data": {
      "text/plain": [
       "Sub-Category Code\n",
       "BI    1523\n",
       "PA    1370\n",
       "FU     957\n",
       "PH     889\n",
       "ST     846\n",
       "AR     796\n",
       "AC     775\n",
       "CH     617\n",
       "AP     466\n",
       "LA     364\n",
       "TA     319\n",
       "EN     254\n",
       "BO     228\n",
       "FA     217\n",
       "SU     190\n",
       "MA     115\n",
       "CO      68\n",
       "Name: count, dtype: int64"
      ]
     },
     "execution_count": 25,
     "metadata": {},
     "output_type": "execute_result"
    }
   ],
   "source": [
    "orders_df[\"Sub-Category Code\"] = orders_df[\"Product ID\"].map(lambda p: p.split(\"-\")[1])\n",
    "orders_df[\"Sub-Category Code\"].value_counts()"
   ]
  },
  {
   "cell_type": "markdown",
   "id": "b2629355-420a-4f60-b9ff-ac19a004ad63",
   "metadata": {},
   "source": [
    "Add `Employee ID` attribute"
   ]
  },
  {
   "cell_type": "code",
   "execution_count": 26,
   "id": "09689b12-2723-493f-a97b-ee4f3cefd6bb",
   "metadata": {},
   "outputs": [],
   "source": [
    "employee_ids = { \n",
    "    \"Sadie Pawthorne\": \"SP-00001\",\n",
    "    \"Chuck Magee\": \"CM-00002\",\n",
    "    \"Roxanne Rodriguez\": \"RR-00003\",\n",
    "    \"Fred Suzuki\": \"FS-00004\"\n",
    "}\n",
    "people_df[\"Employee ID\"] = people_df[\"Regional Manager\"].map(employee_ids)"
   ]
  },
  {
   "cell_type": "code",
   "execution_count": 27,
   "id": "7343ed60-8c02-453c-925d-5d3b7b7d1990",
   "metadata": {},
   "outputs": [
    {
     "data": {
      "text/plain": [
       "Discount\n",
       "0.00    4798\n",
       "0.20    3657\n",
       "0.70     418\n",
       "0.80     300\n",
       "0.30     227\n",
       "0.40     206\n",
       "0.60     138\n",
       "0.10      94\n",
       "0.50      66\n",
       "0.15      52\n",
       "0.32      27\n",
       "0.45      11\n",
       "Name: count, dtype: int64"
      ]
     },
     "execution_count": 27,
     "metadata": {},
     "output_type": "execute_result"
    }
   ],
   "source": [
    "orders_df[\"Discount\"].value_counts()"
   ]
  },
  {
   "cell_type": "code",
   "execution_count": 28,
   "id": "9a8bdec9-6a52-46e7-b10c-00386aaa7ddc",
   "metadata": {},
   "outputs": [
    {
     "data": {
      "text/html": [
       "<div>\n",
       "<style scoped>\n",
       "    .dataframe tbody tr th:only-of-type {\n",
       "        vertical-align: middle;\n",
       "    }\n",
       "\n",
       "    .dataframe tbody tr th {\n",
       "        vertical-align: top;\n",
       "    }\n",
       "\n",
       "    .dataframe thead th {\n",
       "        text-align: right;\n",
       "    }\n",
       "</style>\n",
       "<table border=\"1\" class=\"dataframe\">\n",
       "  <thead>\n",
       "    <tr style=\"text-align: right;\">\n",
       "      <th></th>\n",
       "      <th>Sales</th>\n",
       "      <th>Quantity</th>\n",
       "      <th>Discount</th>\n",
       "      <th>Profit</th>\n",
       "    </tr>\n",
       "  </thead>\n",
       "  <tbody>\n",
       "    <tr>\n",
       "      <th>count</th>\n",
       "      <td>9994.000000</td>\n",
       "      <td>9994.000000</td>\n",
       "      <td>9994.000000</td>\n",
       "      <td>9994.000000</td>\n",
       "    </tr>\n",
       "    <tr>\n",
       "      <th>mean</th>\n",
       "      <td>229.858001</td>\n",
       "      <td>3.789574</td>\n",
       "      <td>0.156203</td>\n",
       "      <td>28.656896</td>\n",
       "    </tr>\n",
       "    <tr>\n",
       "      <th>std</th>\n",
       "      <td>623.245101</td>\n",
       "      <td>2.225110</td>\n",
       "      <td>0.206452</td>\n",
       "      <td>234.260108</td>\n",
       "    </tr>\n",
       "    <tr>\n",
       "      <th>min</th>\n",
       "      <td>0.444000</td>\n",
       "      <td>1.000000</td>\n",
       "      <td>0.000000</td>\n",
       "      <td>-6599.978000</td>\n",
       "    </tr>\n",
       "    <tr>\n",
       "      <th>25%</th>\n",
       "      <td>17.280000</td>\n",
       "      <td>2.000000</td>\n",
       "      <td>0.000000</td>\n",
       "      <td>1.728750</td>\n",
       "    </tr>\n",
       "    <tr>\n",
       "      <th>50%</th>\n",
       "      <td>54.490000</td>\n",
       "      <td>3.000000</td>\n",
       "      <td>0.200000</td>\n",
       "      <td>8.666500</td>\n",
       "    </tr>\n",
       "    <tr>\n",
       "      <th>75%</th>\n",
       "      <td>209.940000</td>\n",
       "      <td>5.000000</td>\n",
       "      <td>0.200000</td>\n",
       "      <td>29.364000</td>\n",
       "    </tr>\n",
       "    <tr>\n",
       "      <th>max</th>\n",
       "      <td>22638.480000</td>\n",
       "      <td>14.000000</td>\n",
       "      <td>0.800000</td>\n",
       "      <td>8399.976000</td>\n",
       "    </tr>\n",
       "  </tbody>\n",
       "</table>\n",
       "</div>"
      ],
      "text/plain": [
       "              Sales     Quantity     Discount       Profit\n",
       "count   9994.000000  9994.000000  9994.000000  9994.000000\n",
       "mean     229.858001     3.789574     0.156203    28.656896\n",
       "std      623.245101     2.225110     0.206452   234.260108\n",
       "min        0.444000     1.000000     0.000000 -6599.978000\n",
       "25%       17.280000     2.000000     0.000000     1.728750\n",
       "50%       54.490000     3.000000     0.200000     8.666500\n",
       "75%      209.940000     5.000000     0.200000    29.364000\n",
       "max    22638.480000    14.000000     0.800000  8399.976000"
      ]
     },
     "execution_count": 28,
     "metadata": {},
     "output_type": "execute_result"
    }
   ],
   "source": [
    "orders_df[[\"Sales\", \"Quantity\", \"Discount\", \"Profit\"]].describe()"
   ]
  },
  {
   "cell_type": "markdown",
   "id": "8e181be4-a981-4e13-8da4-3f05bae8ed4a",
   "metadata": {},
   "source": [
    "* Deepest discount is 0.8\n",
    "* There are negative profits"
   ]
  },
  {
   "cell_type": "code",
   "execution_count": 29,
   "id": "682fb915-3ea9-4a7e-939c-d7bf67b47125",
   "metadata": {},
   "outputs": [
    {
     "data": {
      "text/plain": [
       "Returned\n",
       "Yes    800\n",
       "Name: count, dtype: int64"
      ]
     },
     "execution_count": 29,
     "metadata": {},
     "output_type": "execute_result"
    }
   ],
   "source": [
    "returns_df[\"Returned\"].value_counts()"
   ]
  },
  {
   "cell_type": "markdown",
   "id": "aaf2ce18-984f-449a-ad61-97dc8b89c86b",
   "metadata": {},
   "source": [
    "The `Returned` column serves no purpose for it consists of only `Yes` values"
   ]
  },
  {
   "cell_type": "code",
   "execution_count": 30,
   "id": "006b4708-217f-482a-8bb8-f83cd6f20b29",
   "metadata": {},
   "outputs": [],
   "source": [
    "returns_df.drop(\"Returned\", axis=1, inplace=True)"
   ]
  },
  {
   "cell_type": "code",
   "execution_count": 31,
   "id": "726a6811-4c9d-4d4e-8e28-6b76176937db",
   "metadata": {},
   "outputs": [
    {
     "data": {
      "text/plain": [
       "np.int64(0)"
      ]
     },
     "execution_count": 31,
     "metadata": {},
     "output_type": "execute_result"
    }
   ],
   "source": [
    "orders_df.duplicated().sum()"
   ]
  },
  {
   "cell_type": "markdown",
   "id": "2421d249-090d-40e0-a70d-348b24a409d4",
   "metadata": {},
   "source": [
    "Not any order is a duplication"
   ]
  },
  {
   "cell_type": "markdown",
   "id": "f2794298-7102-4b7f-bb36-40247f45b6e6",
   "metadata": {},
   "source": [
    "### Is all items returned when an order is returned"
   ]
  },
  {
   "cell_type": "code",
   "execution_count": 32,
   "id": "1c392cc7-81f6-4759-9bfc-863081cf89b0",
   "metadata": {},
   "outputs": [
    {
     "data": {
      "text/html": [
       "<div>\n",
       "<style scoped>\n",
       "    .dataframe tbody tr th:only-of-type {\n",
       "        vertical-align: middle;\n",
       "    }\n",
       "\n",
       "    .dataframe tbody tr th {\n",
       "        vertical-align: top;\n",
       "    }\n",
       "\n",
       "    .dataframe thead th {\n",
       "        text-align: right;\n",
       "    }\n",
       "</style>\n",
       "<table border=\"1\" class=\"dataframe\">\n",
       "  <thead>\n",
       "    <tr style=\"text-align: right;\">\n",
       "      <th></th>\n",
       "      <th>Order Item Count</th>\n",
       "      <th>Return Item Count</th>\n",
       "    </tr>\n",
       "    <tr>\n",
       "      <th>Order ID</th>\n",
       "      <th></th>\n",
       "      <th></th>\n",
       "    </tr>\n",
       "  </thead>\n",
       "  <tbody>\n",
       "  </tbody>\n",
       "</table>\n",
       "</div>"
      ],
      "text/plain": [
       "Empty DataFrame\n",
       "Columns: [Order Item Count, Return Item Count]\n",
       "Index: []"
      ]
     },
     "execution_count": 32,
     "metadata": {},
     "output_type": "execute_result"
    }
   ],
   "source": [
    "order_items_counts = orders_df[\"Order ID\"].value_counts()\n",
    "return_items_counts = returns_df[\"Order ID\"].value_counts()\n",
    "returned_order_items_counts = pd.DataFrame({ \"Order Item Count\": order_items_counts,  \"Return Item Count\": return_items_counts }).dropna()\n",
    "returned_order_items_counts[returned_order_items_counts[\"Order Item Count\"] != returned_order_items_counts[\"Return Item Count\"]]"
   ]
  },
  {
   "cell_type": "markdown",
   "id": "4bec14b6-fe2a-4c0b-b2f0-7416624418b8",
   "metadata": {},
   "source": [
    "For each returned order, all items in the order are returned."
   ]
  },
  {
   "cell_type": "markdown",
   "id": "44b3140e-1672-42f4-a836-4ae326022840",
   "metadata": {},
   "source": [
    "### Calculating Unit Prices"
   ]
  },
  {
   "cell_type": "code",
   "execution_count": 33,
   "id": "ab905765-d5e1-4268-ad49-e9dd1a33a37d",
   "metadata": {},
   "outputs": [],
   "source": [
    "sales = orders_df[\"Sales\"]\n",
    "quantities = orders_df[\"Quantity\"]\n",
    "discounts = orders_df[\"Discount\"]\n",
    "sales_before_discounts = sales / (1 - orders_df[\"Discount\"])\n",
    "unit_prices = (sales_before_discounts / quantities).round(2)\n",
    "orders_df[\"Unit Price\"] = unit_prices"
   ]
  },
  {
   "cell_type": "code",
   "execution_count": 34,
   "id": "c5dc081b-f351-4a35-87f4-de8f96ee7bc5",
   "metadata": {},
   "outputs": [
    {
     "data": {
      "text/plain": [
       "Product ID       Unit Price\n",
       "FUR-BO-10000112  130.98        1\n",
       "FUR-BO-10000330  120.98        3\n",
       "FUR-BO-10000362  170.98        5\n",
       "FUR-BO-10000468  48.58         6\n",
       "FUR-BO-10000711  70.98         2\n",
       "                              ..\n",
       "TEC-PH-10004912  54.95         3\n",
       "TEC-PH-10004922  66.99         5\n",
       "TEC-PH-10004924  7.39          3\n",
       "TEC-PH-10004959  100.49        2\n",
       "TEC-PH-10004977  195.99        9\n",
       "Name: count, Length: 1894, dtype: int64"
      ]
     },
     "execution_count": 34,
     "metadata": {},
     "output_type": "execute_result"
    }
   ],
   "source": [
    "product_ids = orders_df[\"Product ID\"]\n",
    "product_prices = pd.DataFrame({\"Product ID\": orders_df[\"Product ID\"], \"Unit Price\": unit_prices}).groupby([\"Product ID\", \"Unit Price\"]).value_counts()\n",
    "product_prices"
   ]
  },
  {
   "cell_type": "code",
   "execution_count": 35,
   "id": "4c2f741f-c819-48d9-b20c-888c6b8b44e7",
   "metadata": {},
   "outputs": [
    {
     "data": {
      "text/html": [
       "<div>\n",
       "<style scoped>\n",
       "    .dataframe tbody tr th:only-of-type {\n",
       "        vertical-align: middle;\n",
       "    }\n",
       "\n",
       "    .dataframe tbody tr th {\n",
       "        vertical-align: top;\n",
       "    }\n",
       "\n",
       "    .dataframe thead th {\n",
       "        text-align: right;\n",
       "    }\n",
       "</style>\n",
       "<table border=\"1\" class=\"dataframe\">\n",
       "  <thead>\n",
       "    <tr style=\"text-align: right;\">\n",
       "      <th></th>\n",
       "      <th>Unit Price</th>\n",
       "      <th>count</th>\n",
       "    </tr>\n",
       "    <tr>\n",
       "      <th>Product ID</th>\n",
       "      <th></th>\n",
       "      <th></th>\n",
       "    </tr>\n",
       "  </thead>\n",
       "  <tbody>\n",
       "    <tr>\n",
       "      <th>FUR-BO-10000112</th>\n",
       "      <td>130.98</td>\n",
       "      <td>1</td>\n",
       "    </tr>\n",
       "    <tr>\n",
       "      <th>FUR-BO-10000330</th>\n",
       "      <td>120.98</td>\n",
       "      <td>3</td>\n",
       "    </tr>\n",
       "    <tr>\n",
       "      <th>FUR-BO-10000362</th>\n",
       "      <td>170.98</td>\n",
       "      <td>5</td>\n",
       "    </tr>\n",
       "    <tr>\n",
       "      <th>FUR-BO-10000468</th>\n",
       "      <td>48.58</td>\n",
       "      <td>6</td>\n",
       "    </tr>\n",
       "    <tr>\n",
       "      <th>FUR-BO-10000711</th>\n",
       "      <td>70.98</td>\n",
       "      <td>2</td>\n",
       "    </tr>\n",
       "    <tr>\n",
       "      <th>...</th>\n",
       "      <td>...</td>\n",
       "      <td>...</td>\n",
       "    </tr>\n",
       "    <tr>\n",
       "      <th>TEC-PH-10004912</th>\n",
       "      <td>54.95</td>\n",
       "      <td>3</td>\n",
       "    </tr>\n",
       "    <tr>\n",
       "      <th>TEC-PH-10004922</th>\n",
       "      <td>66.99</td>\n",
       "      <td>5</td>\n",
       "    </tr>\n",
       "    <tr>\n",
       "      <th>TEC-PH-10004924</th>\n",
       "      <td>7.39</td>\n",
       "      <td>3</td>\n",
       "    </tr>\n",
       "    <tr>\n",
       "      <th>TEC-PH-10004959</th>\n",
       "      <td>100.49</td>\n",
       "      <td>2</td>\n",
       "    </tr>\n",
       "    <tr>\n",
       "      <th>TEC-PH-10004977</th>\n",
       "      <td>195.99</td>\n",
       "      <td>9</td>\n",
       "    </tr>\n",
       "  </tbody>\n",
       "</table>\n",
       "<p>1894 rows × 2 columns</p>\n",
       "</div>"
      ],
      "text/plain": [
       "                 Unit Price  count\n",
       "Product ID                        \n",
       "FUR-BO-10000112      130.98      1\n",
       "FUR-BO-10000330      120.98      3\n",
       "FUR-BO-10000362      170.98      5\n",
       "FUR-BO-10000468       48.58      6\n",
       "FUR-BO-10000711       70.98      2\n",
       "...                     ...    ...\n",
       "TEC-PH-10004912       54.95      3\n",
       "TEC-PH-10004922       66.99      5\n",
       "TEC-PH-10004924        7.39      3\n",
       "TEC-PH-10004959      100.49      2\n",
       "TEC-PH-10004977      195.99      9\n",
       "\n",
       "[1894 rows x 2 columns]"
      ]
     },
     "execution_count": 35,
     "metadata": {},
     "output_type": "execute_result"
    }
   ],
   "source": [
    "# By setting the index to only `Product ID`, any product with more than one unit price will cause error.\n",
    "# This way making sure each product has only one unit price.\n",
    "# Note.  If one product has more than one unit price does not mean it's invalid.  It's just indicate the price has changed before\n",
    "product_prices.reset_index(1)"
   ]
  },
  {
   "cell_type": "markdown",
   "id": "915a4dd6-eb31-40cb-a345-b2ba076e61fa",
   "metadata": {},
   "source": [
    "There is one unit price per product"
   ]
  },
  {
   "cell_type": "code",
   "execution_count": 36,
   "id": "5ecefeb8-758f-4727-9880-f143bebab7d3",
   "metadata": {},
   "outputs": [
    {
     "data": {
      "text/html": [
       "<div>\n",
       "<style scoped>\n",
       "    .dataframe tbody tr th:only-of-type {\n",
       "        vertical-align: middle;\n",
       "    }\n",
       "\n",
       "    .dataframe tbody tr th {\n",
       "        vertical-align: top;\n",
       "    }\n",
       "\n",
       "    .dataframe thead th {\n",
       "        text-align: right;\n",
       "    }\n",
       "</style>\n",
       "<table border=\"1\" class=\"dataframe\">\n",
       "  <thead>\n",
       "    <tr style=\"text-align: right;\">\n",
       "      <th></th>\n",
       "      <th>Product ID</th>\n",
       "      <th>Unit Cost</th>\n",
       "    </tr>\n",
       "  </thead>\n",
       "  <tbody>\n",
       "    <tr>\n",
       "      <th>0</th>\n",
       "      <td>FUR-BO-10001798</td>\n",
       "      <td>110.02</td>\n",
       "    </tr>\n",
       "    <tr>\n",
       "      <th>1</th>\n",
       "      <td>FUR-CH-10000454</td>\n",
       "      <td>170.79</td>\n",
       "    </tr>\n",
       "    <tr>\n",
       "      <th>2</th>\n",
       "      <td>OFF-LA-10000240</td>\n",
       "      <td>3.87</td>\n",
       "    </tr>\n",
       "    <tr>\n",
       "      <th>3</th>\n",
       "      <td>FUR-TA-10000577</td>\n",
       "      <td>268.12</td>\n",
       "    </tr>\n",
       "    <tr>\n",
       "      <th>4</th>\n",
       "      <td>OFF-ST-10000760</td>\n",
       "      <td>9.93</td>\n",
       "    </tr>\n",
       "    <tr>\n",
       "      <th>...</th>\n",
       "      <td>...</td>\n",
       "      <td>...</td>\n",
       "    </tr>\n",
       "    <tr>\n",
       "      <th>9989</th>\n",
       "      <td>FUR-FU-10001889</td>\n",
       "      <td>7.05</td>\n",
       "    </tr>\n",
       "    <tr>\n",
       "      <th>9990</th>\n",
       "      <td>FUR-FU-10000747</td>\n",
       "      <td>38.16</td>\n",
       "    </tr>\n",
       "    <tr>\n",
       "      <th>9991</th>\n",
       "      <td>TEC-PH-10003645</td>\n",
       "      <td>119.59</td>\n",
       "    </tr>\n",
       "    <tr>\n",
       "      <th>9992</th>\n",
       "      <td>OFF-PA-10004041</td>\n",
       "      <td>4.07</td>\n",
       "    </tr>\n",
       "    <tr>\n",
       "      <th>9993</th>\n",
       "      <td>OFF-AP-10002684</td>\n",
       "      <td>85.11</td>\n",
       "    </tr>\n",
       "  </tbody>\n",
       "</table>\n",
       "<p>9994 rows × 2 columns</p>\n",
       "</div>"
      ],
      "text/plain": [
       "           Product ID  Unit Cost\n",
       "0     FUR-BO-10001798     110.02\n",
       "1     FUR-CH-10000454     170.79\n",
       "2     OFF-LA-10000240       3.87\n",
       "3     FUR-TA-10000577     268.12\n",
       "4     OFF-ST-10000760       9.93\n",
       "...               ...        ...\n",
       "9989  FUR-FU-10001889       7.05\n",
       "9990  FUR-FU-10000747      38.16\n",
       "9991  TEC-PH-10003645     119.59\n",
       "9992  OFF-PA-10004041       4.07\n",
       "9993  OFF-AP-10002684      85.11\n",
       "\n",
       "[9994 rows x 2 columns]"
      ]
     },
     "execution_count": 36,
     "metadata": {},
     "output_type": "execute_result"
    }
   ],
   "source": [
    "# Find each product's unit cost\n",
    "profits = orders_df[\"Profit\"]\n",
    "unit_costs = ((sales - profits) / quantities).round(2)\n",
    "orders_df[\"Unit Cost\"] = unit_costs\n",
    "product_costs = orders_df[[\"Product ID\", \"Unit Cost\"]]\n",
    "product_costs"
   ]
  },
  {
   "cell_type": "code",
   "execution_count": 37,
   "id": "98333bd1-bd61-442b-86dd-893073e0f697",
   "metadata": {},
   "outputs": [
    {
     "data": {
      "text/html": [
       "<div>\n",
       "<style scoped>\n",
       "    .dataframe tbody tr th:only-of-type {\n",
       "        vertical-align: middle;\n",
       "    }\n",
       "\n",
       "    .dataframe tbody tr th {\n",
       "        vertical-align: top;\n",
       "    }\n",
       "\n",
       "    .dataframe thead th {\n",
       "        text-align: right;\n",
       "    }\n",
       "</style>\n",
       "<table border=\"1\" class=\"dataframe\">\n",
       "  <thead>\n",
       "    <tr style=\"text-align: right;\">\n",
       "      <th></th>\n",
       "      <th>Discount</th>\n",
       "      <th>count</th>\n",
       "    </tr>\n",
       "    <tr>\n",
       "      <th>Product ID</th>\n",
       "      <th></th>\n",
       "      <th></th>\n",
       "    </tr>\n",
       "  </thead>\n",
       "  <tbody>\n",
       "    <tr>\n",
       "      <th>FUR-BO-10000112</th>\n",
       "      <td>0.30</td>\n",
       "      <td>1</td>\n",
       "    </tr>\n",
       "    <tr>\n",
       "      <th>FUR-BO-10000330</th>\n",
       "      <td>0.15</td>\n",
       "      <td>2</td>\n",
       "    </tr>\n",
       "    <tr>\n",
       "      <th>FUR-BO-10000330</th>\n",
       "      <td>0.00</td>\n",
       "      <td>1</td>\n",
       "    </tr>\n",
       "    <tr>\n",
       "      <th>FUR-BO-10000362</th>\n",
       "      <td>0.00</td>\n",
       "      <td>2</td>\n",
       "    </tr>\n",
       "    <tr>\n",
       "      <th>FUR-BO-10000362</th>\n",
       "      <td>0.15</td>\n",
       "      <td>1</td>\n",
       "    </tr>\n",
       "    <tr>\n",
       "      <th>...</th>\n",
       "      <td>...</td>\n",
       "      <td>...</td>\n",
       "    </tr>\n",
       "    <tr>\n",
       "      <th>TEC-PH-10004959</th>\n",
       "      <td>0.00</td>\n",
       "      <td>1</td>\n",
       "    </tr>\n",
       "    <tr>\n",
       "      <th>TEC-PH-10004959</th>\n",
       "      <td>0.20</td>\n",
       "      <td>1</td>\n",
       "    </tr>\n",
       "    <tr>\n",
       "      <th>TEC-PH-10004977</th>\n",
       "      <td>0.20</td>\n",
       "      <td>5</td>\n",
       "    </tr>\n",
       "    <tr>\n",
       "      <th>TEC-PH-10004977</th>\n",
       "      <td>0.00</td>\n",
       "      <td>3</td>\n",
       "    </tr>\n",
       "    <tr>\n",
       "      <th>TEC-PH-10004977</th>\n",
       "      <td>0.40</td>\n",
       "      <td>1</td>\n",
       "    </tr>\n",
       "  </tbody>\n",
       "</table>\n",
       "<p>4119 rows × 2 columns</p>\n",
       "</div>"
      ],
      "text/plain": [
       "                 Discount  count\n",
       "Product ID                      \n",
       "FUR-BO-10000112      0.30      1\n",
       "FUR-BO-10000330      0.15      2\n",
       "FUR-BO-10000330      0.00      1\n",
       "FUR-BO-10000362      0.00      2\n",
       "FUR-BO-10000362      0.15      1\n",
       "...                   ...    ...\n",
       "TEC-PH-10004959      0.00      1\n",
       "TEC-PH-10004959      0.20      1\n",
       "TEC-PH-10004977      0.20      5\n",
       "TEC-PH-10004977      0.00      3\n",
       "TEC-PH-10004977      0.40      1\n",
       "\n",
       "[4119 rows x 2 columns]"
      ]
     },
     "execution_count": 37,
     "metadata": {},
     "output_type": "execute_result"
    }
   ],
   "source": [
    "# Making sure each order has only one kind of discount\n",
    "orders_df[[\"Product ID\", \"Discount\"]].groupby(\"Product ID\").value_counts().reset_index(1)"
   ]
  },
  {
   "cell_type": "markdown",
   "id": "dda010c8-0a71-4136-9829-89c964baf927",
   "metadata": {},
   "source": [
    "### Exporting CSVs"
   ]
  },
  {
   "cell_type": "code",
   "execution_count": 38,
   "id": "fe557e85-7338-41ab-a5c8-200400711edd",
   "metadata": {},
   "outputs": [],
   "source": [
    "import os\n",
    "if not os.path.isdir(\"data\"):\n",
    "    os.makedirs(\"data\")"
   ]
  },
  {
   "cell_type": "code",
   "execution_count": 39,
   "id": "4e163093-eb45-410e-b127-3551f442a1ae",
   "metadata": {},
   "outputs": [],
   "source": [
    "# Export data/categories.csv\n",
    "category_index = orders_df[[\"Category Code\", \"Category\"]].value_counts().index\n",
    "category_index.to_frame(index=False).set_index([\"Category Code\"]).to_csv(\"data/categories.csv\", index_label=\"category_code\", header=[\"cateogry_name\"])"
   ]
  },
  {
   "cell_type": "code",
   "execution_count": 40,
   "id": "1a16bf5c-7597-4b95-8c8c-94f9245c41dc",
   "metadata": {},
   "outputs": [],
   "source": [
    "# Export data/subcategories.csv\n",
    "subcategory_index = orders_df[[\"Category Code\", \"Sub-Category Code\", \"Sub-Category\"]].value_counts().index\n",
    "subcategory_index.to_frame(index=False).set_index([\"Category Code\", \"Sub-Category Code\"]).to_csv(\"data/subcategories.csv\", index_label=[\"category_code\", \"subcategory_code\"], header=[\"subcategory_name\"])"
   ]
  },
  {
   "cell_type": "code",
   "execution_count": 41,
   "id": "f1a93589-8100-4bab-926e-29a0ba98e53a",
   "metadata": {},
   "outputs": [],
   "source": [
    "# Export data/employees.csv\n",
    "people_df[[\"Employee ID\", \"Regional Manager\"]].set_index(\"Employee ID\").to_csv(\"data/employees.csv\", index_label=[\"employee_id\"], header=[\"employee_name\"])"
   ]
  },
  {
   "cell_type": "code",
   "execution_count": 42,
   "id": "78a22390-488e-4cfe-b7df-d9615b7292dd",
   "metadata": {},
   "outputs": [],
   "source": [
    "# Export data/ship_modes.csv\n",
    "orders_df[[\"Ship Mode\", \"Ship Mode Code\"]].value_counts().index.to_frame().set_index(\"Ship Mode Code\").to_csv(\"data/ship_modes.csv\", index_label=[\"ship_mode_code\"], header=[\"ship_mode_name\"])"
   ]
  },
  {
   "cell_type": "code",
   "execution_count": 43,
   "id": "3bdae94f-a965-4e2c-a9a8-49acff0749f2",
   "metadata": {},
   "outputs": [],
   "source": [
    "# Export data/customer_segments.csv\n",
    "orders_df[[\"Segment Code\", \"Segment\"]].value_counts().index.to_frame().set_index(\"Segment Code\").to_csv(\"data/customer_segments.csv\", index_label=[\"segment_code\"], header=[\"segment_name\"])"
   ]
  },
  {
   "cell_type": "code",
   "execution_count": 44,
   "id": "9f4adaa4-b053-420a-a0b8-f3f1d695817b",
   "metadata": {},
   "outputs": [],
   "source": [
    "# Export data/customers.csv\n",
    "orders_df[[\"Customer ID\", \"Segment Code\", \"Customer Name\"]].value_counts().index.to_frame().set_index(\"Customer ID\").to_csv(\"data/customers.csv\", index_label=[\"customer_id\"], header=[\"segment_code\", \"customer_name\"])"
   ]
  },
  {
   "cell_type": "code",
   "execution_count": 45,
   "id": "e63c01a3-fe2d-43f6-95c5-bd4570684dae",
   "metadata": {},
   "outputs": [],
   "source": [
    "# Export data/regions.csv\n",
    "people_df[\"Region Code\"] = people_df[\"Region\"].map(region_name_codes)\n",
    "people_df[[\"Region Code\", \"Region\", \"Employee ID\"]].set_index(\"Region Code\").to_csv(\"data/regions.csv\", index_label=[\"region_code\"], header=[\"region_name\", \"manager_employee_id\"])"
   ]
  },
  {
   "cell_type": "code",
   "execution_count": 46,
   "id": "12cd241b-6759-4531-a19b-40ee20043169",
   "metadata": {},
   "outputs": [],
   "source": [
    "# Export data/states.csv\n",
    "orders_df[[\"State Code\", \"Region Code\", \"State\"]].value_counts().index.to_frame().set_index(\"State Code\").to_csv(\"data/states.csv\", index_label=[\"state_code\"], header=[\"region_code\", \"state_name\"])"
   ]
  },
  {
   "cell_type": "code",
   "execution_count": 47,
   "id": "df3fd451-2d0c-474d-ad0a-d13d87708ef0",
   "metadata": {},
   "outputs": [
    {
     "data": {
      "text/html": [
       "<div>\n",
       "<style scoped>\n",
       "    .dataframe tbody tr th:only-of-type {\n",
       "        vertical-align: middle;\n",
       "    }\n",
       "\n",
       "    .dataframe tbody tr th {\n",
       "        vertical-align: top;\n",
       "    }\n",
       "\n",
       "    .dataframe thead th {\n",
       "        text-align: right;\n",
       "    }\n",
       "</style>\n",
       "<table border=\"1\" class=\"dataframe\">\n",
       "  <thead>\n",
       "    <tr style=\"text-align: right;\">\n",
       "      <th></th>\n",
       "      <th>0</th>\n",
       "    </tr>\n",
       "  </thead>\n",
       "  <tbody>\n",
       "    <tr>\n",
       "      <th>1</th>\n",
       "      <td>1</td>\n",
       "    </tr>\n",
       "    <tr>\n",
       "      <th>2</th>\n",
       "      <td>2</td>\n",
       "    </tr>\n",
       "    <tr>\n",
       "      <th>3</th>\n",
       "      <td>3</td>\n",
       "    </tr>\n",
       "    <tr>\n",
       "      <th>4</th>\n",
       "      <td>4</td>\n",
       "    </tr>\n",
       "    <tr>\n",
       "      <th>5</th>\n",
       "      <td>5</td>\n",
       "    </tr>\n",
       "    <tr>\n",
       "      <th>...</th>\n",
       "      <td>...</td>\n",
       "    </tr>\n",
       "    <tr>\n",
       "      <th>600</th>\n",
       "      <td>600</td>\n",
       "    </tr>\n",
       "    <tr>\n",
       "      <th>601</th>\n",
       "      <td>601</td>\n",
       "    </tr>\n",
       "    <tr>\n",
       "      <th>602</th>\n",
       "      <td>602</td>\n",
       "    </tr>\n",
       "    <tr>\n",
       "      <th>603</th>\n",
       "      <td>603</td>\n",
       "    </tr>\n",
       "    <tr>\n",
       "      <th>604</th>\n",
       "      <td>604</td>\n",
       "    </tr>\n",
       "  </tbody>\n",
       "</table>\n",
       "<p>604 rows × 1 columns</p>\n",
       "</div>"
      ],
      "text/plain": [
       "       0\n",
       "1      1\n",
       "2      2\n",
       "3      3\n",
       "4      4\n",
       "5      5\n",
       "..   ...\n",
       "600  600\n",
       "601  601\n",
       "602  602\n",
       "603  603\n",
       "604  604\n",
       "\n",
       "[604 rows x 1 columns]"
      ]
     },
     "execution_count": 47,
     "metadata": {},
     "output_type": "execute_result"
    }
   ],
   "source": [
    "# Export data/cities.csv\n",
    "cities = orders_df[[\"State Code\", \"City\"]].value_counts().index.to_frame().sort_index().reset_index(drop=True)\n",
    "cities.index += 1\n",
    "cities.index.to_frame()"
   ]
  },
  {
   "cell_type": "code",
   "execution_count": 48,
   "id": "780d4a87-3549-4db4-a45b-e633d845c392",
   "metadata": {},
   "outputs": [],
   "source": [
    "cities.to_csv(\"data/cities.csv\", index_label=\"city_id\", header=[\"state_code\", \"city_name\"])"
   ]
  },
  {
   "cell_type": "code",
   "execution_count": 49,
   "id": "f6d29456-d9c4-44b7-960f-031e72a6c857",
   "metadata": {},
   "outputs": [
    {
     "data": {
      "text/html": [
       "<div>\n",
       "<style scoped>\n",
       "    .dataframe tbody tr th:only-of-type {\n",
       "        vertical-align: middle;\n",
       "    }\n",
       "\n",
       "    .dataframe tbody tr th {\n",
       "        vertical-align: top;\n",
       "    }\n",
       "\n",
       "    .dataframe thead th {\n",
       "        text-align: right;\n",
       "    }\n",
       "</style>\n",
       "<table border=\"1\" class=\"dataframe\">\n",
       "  <thead>\n",
       "    <tr style=\"text-align: right;\">\n",
       "      <th></th>\n",
       "      <th>State Code</th>\n",
       "      <th>City</th>\n",
       "      <th>City ID</th>\n",
       "    </tr>\n",
       "  </thead>\n",
       "  <tbody>\n",
       "    <tr>\n",
       "      <th>1</th>\n",
       "      <td>AL</td>\n",
       "      <td>Auburn</td>\n",
       "      <td>1</td>\n",
       "    </tr>\n",
       "    <tr>\n",
       "      <th>2</th>\n",
       "      <td>AL</td>\n",
       "      <td>Decatur</td>\n",
       "      <td>2</td>\n",
       "    </tr>\n",
       "    <tr>\n",
       "      <th>3</th>\n",
       "      <td>AL</td>\n",
       "      <td>Florence</td>\n",
       "      <td>3</td>\n",
       "    </tr>\n",
       "    <tr>\n",
       "      <th>4</th>\n",
       "      <td>AL</td>\n",
       "      <td>Hoover</td>\n",
       "      <td>4</td>\n",
       "    </tr>\n",
       "    <tr>\n",
       "      <th>5</th>\n",
       "      <td>AL</td>\n",
       "      <td>Huntsville</td>\n",
       "      <td>5</td>\n",
       "    </tr>\n",
       "    <tr>\n",
       "      <th>...</th>\n",
       "      <td>...</td>\n",
       "      <td>...</td>\n",
       "      <td>...</td>\n",
       "    </tr>\n",
       "    <tr>\n",
       "      <th>600</th>\n",
       "      <td>WI</td>\n",
       "      <td>Waukesha</td>\n",
       "      <td>600</td>\n",
       "    </tr>\n",
       "    <tr>\n",
       "      <th>601</th>\n",
       "      <td>WI</td>\n",
       "      <td>Wausau</td>\n",
       "      <td>601</td>\n",
       "    </tr>\n",
       "    <tr>\n",
       "      <th>602</th>\n",
       "      <td>WI</td>\n",
       "      <td>West Allis</td>\n",
       "      <td>602</td>\n",
       "    </tr>\n",
       "    <tr>\n",
       "      <th>603</th>\n",
       "      <td>WV</td>\n",
       "      <td>Wheeling</td>\n",
       "      <td>603</td>\n",
       "    </tr>\n",
       "    <tr>\n",
       "      <th>604</th>\n",
       "      <td>WY</td>\n",
       "      <td>Cheyenne</td>\n",
       "      <td>604</td>\n",
       "    </tr>\n",
       "  </tbody>\n",
       "</table>\n",
       "<p>604 rows × 3 columns</p>\n",
       "</div>"
      ],
      "text/plain": [
       "    State Code        City  City ID\n",
       "1           AL      Auburn        1\n",
       "2           AL     Decatur        2\n",
       "3           AL    Florence        3\n",
       "4           AL      Hoover        4\n",
       "5           AL  Huntsville        5\n",
       "..         ...         ...      ...\n",
       "600         WI    Waukesha      600\n",
       "601         WI      Wausau      601\n",
       "602         WI  West Allis      602\n",
       "603         WV    Wheeling      603\n",
       "604         WY    Cheyenne      604\n",
       "\n",
       "[604 rows x 3 columns]"
      ]
     },
     "execution_count": 49,
     "metadata": {},
     "output_type": "execute_result"
    }
   ],
   "source": [
    "cities[\"City ID\"] = cities.index.to_frame()\n",
    "cities"
   ]
  },
  {
   "cell_type": "code",
   "execution_count": 50,
   "id": "d63698b9-ab19-46ab-a7c7-85b8a6dac7ee",
   "metadata": {},
   "outputs": [],
   "source": [
    "orders_df[\"City ID\"] = orders_df.merge(cities, on=[\"State Code\", \"City\"])[\"City ID\"]"
   ]
  },
  {
   "cell_type": "code",
   "execution_count": 51,
   "id": "848edb99-0f50-49ca-b2e4-5fc805239754",
   "metadata": {},
   "outputs": [],
   "source": [
    "# Export data/stores.csv"
   ]
  },
  {
   "cell_type": "code",
   "execution_count": 52,
   "id": "a866a565-6fc7-4be4-8f25-7c7597f5c22a",
   "metadata": {},
   "outputs": [],
   "source": [
    "orders_df[[\"Postal Code\", \"City ID\"]].value_counts().index.to_frame().set_index(\"Postal Code\").to_csv(\"data/stores.csv\", index_label=\"postal_code\", header=[\"city_id\"])"
   ]
  },
  {
   "cell_type": "code",
   "execution_count": 53,
   "id": "20a212a3-fcdf-47ec-9351-9416c712feb3",
   "metadata": {},
   "outputs": [],
   "source": [
    "# Export data/products.csv\n",
    "products = orders_df[[\"Product ID\", \"Category Code\", \"Sub-Category Code\", \"Product Name\", \"Unit Price\", \"Unit Cost\"]].value_counts().index.to_frame().set_index(\"Product ID\")\n",
    "products.to_csv(\"data/products.csv\", index_label=\"product_id\", header=[\"category_code\", \"subcategory_code\", \"product_name\", \"unit_price\", \"unit_cost\"])"
   ]
  },
  {
   "cell_type": "code",
   "execution_count": 54,
   "id": "bdd588fb-7b31-4cd0-9b7d-72c91a8a1922",
   "metadata": {},
   "outputs": [],
   "source": [
    "# Export data/orders.csv\n",
    "orders = orders_df[[\"Order ID\", \"Customer ID\", \"Postal Code\", \"Order Date\", \"Discount\", \"Sales\", \"Ship Mode Code\", \"Ship Date\"]].set_index(\"Order ID\")\n",
    "orders.to_csv(\"data/orders.csv\", index_label=\"order_id\", header=[\"customer_id\", \"postal_code\", \"order_date\", \"discount_percentage\", \"amount_total\", \"ship_mode_code\", \"shipping_date\"])"
   ]
  },
  {
   "cell_type": "code",
   "execution_count": 55,
   "id": "100abb3a-5447-4469-a799-598359173768",
   "metadata": {},
   "outputs": [],
   "source": [
    "# Export data/order_items.csv\n",
    "order_items = orders_df[[\"Order ID\", \"Product ID\", \"Unit Price\", \"Unit Cost\", \"Quantity\"]]\n",
    "order_items.index += 1\n",
    "order_items.to_csv(\"data/order_items.csv\", index_label=\"order_item_id\", header=[\"order_id\", \"product_id\", \"unit_price\", \"unit_cost\", \"quantity\"])"
   ]
  },
  {
   "cell_type": "code",
   "execution_count": 56,
   "id": "c895eb1d-3571-4576-b307-d4b220230c62",
   "metadata": {},
   "outputs": [],
   "source": [
    "# Export data/order_returns.csv\n",
    "returns_df.to_csv(\"data/order_returns.csv\", index=False, header=[\"order_id\"])"
   ]
  }
 ],
 "metadata": {
  "kernelspec": {
   "display_name": "Python 3 (ipykernel)",
   "language": "python",
   "name": "python3"
  },
  "language_info": {
   "codemirror_mode": {
    "name": "ipython",
    "version": 3
   },
   "file_extension": ".py",
   "mimetype": "text/x-python",
   "name": "python",
   "nbconvert_exporter": "python",
   "pygments_lexer": "ipython3",
   "version": "3.12.6"
  }
 },
 "nbformat": 4,
 "nbformat_minor": 5
}
